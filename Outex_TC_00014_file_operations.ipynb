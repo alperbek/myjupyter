{
 "cells": [
  {
   "cell_type": "markdown",
   "metadata": {},
   "source": [
    "<b>ilk önce .bmp resimlerini .jpg olarak convert etmek için, mogrify kütüphanesinden yararlanılarak aşağıdaki komut terminalden çalıştırıldı.</b>\n",
    "\n",
    "mogrify -path /home/yavuz/myprojects/myjupyter/images/Outex_TC_00014/images_jpg/ -format jpg /home/yavuz/myprojects/myjupyter/images/Outex_TC_00014/images/*.bmp"
   ]
  },
  {
   "cell_type": "code",
   "execution_count": 1,
   "metadata": {
    "collapsed": true
   },
   "outputs": [],
   "source": [
    "from os import listdir\n",
    "from shutil import copyfile"
   ]
  },
  {
   "cell_type": "code",
   "execution_count": 2,
   "metadata": {
    "collapsed": true
   },
   "outputs": [],
   "source": [
    "rootFolder = \"images/Outex_TC_00014\"\n",
    "sourceFolder = \"{root}/images_jpg\".format(root = rootFolder)"
   ]
  },
  {
   "cell_type": "code",
   "execution_count": 3,
   "metadata": {},
   "outputs": [
    {
     "data": {
      "text/plain": [
       "4080"
      ]
     },
     "execution_count": 3,
     "metadata": {},
     "output_type": "execute_result"
    }
   ],
   "source": [
    "imagesList = sorted(listdir(sourceFolder))\n",
    "\n",
    "len(imagesList)"
   ]
  },
  {
   "cell_type": "markdown",
   "metadata": {},
   "source": [
    "<b>Görsel veriler, ilk iki aydınlık tipi train için ve üçüncü aydınlık tipi test verileri ayrıldı.</b>\n"
   ]
  },
  {
   "cell_type": "code",
   "execution_count": 5,
   "metadata": {},
   "outputs": [
    {
     "data": {
      "text/plain": [
       "'images/Outex_TC_00014/images_jpg/train/000000.jpg'"
      ]
     },
     "execution_count": 5,
     "metadata": {},
     "output_type": "execute_result"
    }
   ],
   "source": [
    "#copyfile(\"images/Outex_TC_00014/images_jpg/000000.jpg\", \"images/Outex_TC_00014/images_jpg/train/000000.jpg\")"
   ]
  },
  {
   "cell_type": "code",
   "execution_count": 9,
   "metadata": {},
   "outputs": [
    {
     "name": "stdout",
     "output_type": "stream",
     "text": [
      "Copy Done\n"
     ]
    }
   ],
   "source": [
    "for i in range(len(imagesList)):\n",
    "    if i<68*20*2:\n",
    "        copyfile(\"{folder}/{filename}\".format(folder = sourceFolder, filename = imagesList[i]), \"{folder}/train/{filename}\".format(folder = rootFolder, filename = imagesList[i]))\n",
    "    else:\n",
    "        copyfile(\"{folder}/{filename}\".format(folder = sourceFolder, filename = imagesList[i]), \"{folder}/test/{filename}\".format(folder = rootFolder, filename = imagesList[i]))\n",
    "\n",
    "print(\"Copy Done\")"
   ]
  },
  {
   "cell_type": "code",
   "execution_count": 36,
   "metadata": {},
   "outputs": [
    {
     "data": {
      "text/plain": [
       "1360"
      ]
     },
     "execution_count": 36,
     "metadata": {},
     "output_type": "execute_result"
    }
   ],
   "source": [
    "len(listdir(\"images/Outex_TC_00014/test\"))"
   ]
  },
  {
   "cell_type": "code",
   "execution_count": 37,
   "metadata": {},
   "outputs": [
    {
     "data": {
      "text/plain": [
       "2720"
      ]
     },
     "execution_count": 37,
     "metadata": {},
     "output_type": "execute_result"
    }
   ],
   "source": [
    "len(listdir(\"images/Outex_TC_00014/train\"))"
   ]
  },
  {
   "cell_type": "code",
   "execution_count": 34,
   "metadata": {
    "scrolled": true
   },
   "outputs": [
    {
     "name": "stdout",
     "output_type": "stream",
     "text": [
      "Write File Done\n"
     ]
    }
   ],
   "source": [
    "#train.txt ve test.txt dosyaları imagePath label şeklinde düzenleniyor\n",
    "\n",
    "l = 3;\n",
    "label = 68;\n",
    "sample = 20;\n",
    "c = 1;\n",
    "\n",
    "fileTrain = open(\"{root}/train.txt\".format(root = rootFolder),\"w\")\n",
    "fileTest = open(\"{root}/test.txt\".format(root = rootFolder),\"w\")\n",
    "for i in range(len(imagesList)):\n",
    "    if i == (label*sample*(l-1)) or i == (label*sample*(l-2)):\n",
    "        c = 1\n",
    "        \n",
    "    if i<label*sample*(l-1):\n",
    "        #train\n",
    "        #print(\"{folder}/train/{image} {imageLabel}\".format(folder = sourceFolder, image = imagesList[i], imageLabel = c))\n",
    "        fileTrain.write(\"{folder}/train/{image} {imageLabel}\\n\".format(folder = rootFolder, image = imagesList[i], imageLabel = c)) \n",
    "        if (i+1)%sample == 0:\n",
    "            c+=1\n",
    "    else:\n",
    "        #test\n",
    "        #print(\"{folder}/test/{image} {imageLabel}\".format(folder = sourceFolder, image = imagesList[i], imageLabel = c))\n",
    "        fileTest.write(\"{folder}/test/{image} {imageLabel}\\n\".format(folder = rootFolder, image = imagesList[i], imageLabel = c))\n",
    "        if (i+1)%sample == 0:\n",
    "            c+=1  \n",
    "        \n",
    "fileTest.close() \n",
    "fileTrain.close() \n",
    "print(\"Write File Done\")"
   ]
  }
 ],
 "metadata": {
  "kernelspec": {
   "display_name": "Python 3",
   "language": "python",
   "name": "python3"
  },
  "language_info": {
   "codemirror_mode": {
    "name": "ipython",
    "version": 3
   },
   "file_extension": ".py",
   "mimetype": "text/x-python",
   "name": "python",
   "nbconvert_exporter": "python",
   "pygments_lexer": "ipython3",
   "version": "3.5.2"
  }
 },
 "nbformat": 4,
 "nbformat_minor": 2
}
