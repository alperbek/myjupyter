{
 "cells": [
  {
   "cell_type": "code",
   "execution_count": 1,
   "metadata": {
    "collapsed": true
   },
   "outputs": [],
   "source": [
    "from os import listdir\n",
    "from shutil import copyfile"
   ]
  },
  {
   "cell_type": "code",
   "execution_count": 7,
   "metadata": {
    "collapsed": true
   },
   "outputs": [],
   "source": [
    " imagesList = sorted(listdir(\"images/Outex_TC_00014/images_jpg\"))"
   ]
  },
  {
   "cell_type": "code",
   "execution_count": 36,
   "metadata": {},
   "outputs": [
    {
     "name": "stdout",
     "output_type": "stream",
     "text": [
      "Copy Done\n"
     ]
    }
   ],
   "source": [
    "c = 0;\n",
    "image = \"\";\n",
    "for i in range(len(imagesList)):\n",
    "    if (i)%20 == 0:\n",
    "        c+=1;\n",
    "        if c < 70:\n",
    "            if c==69:\n",
    "                image = imagesList[i-1]\n",
    "                #print(imagesList[i-1])\n",
    "            else:\n",
    "                image = imagesList[i]\n",
    "                #print(imagesList[i])\n",
    "                \n",
    "    copyfile(\"images/Outex_TC_00014/images_jpg/{filename}\".format(filename = image), \"images/Outex_TC_00014/images_jpg/train/{filename}\".format(filename = image))\n",
    "        \n",
    "print(\"Copy Done\")"
   ]
  },
  {
   "cell_type": "code",
   "execution_count": 8,
   "metadata": {},
   "outputs": [
    {
     "data": {
      "text/plain": [
       "4080"
      ]
     },
     "execution_count": 8,
     "metadata": {},
     "output_type": "execute_result"
    }
   ],
   "source": [
    "len(imagesList)"
   ]
  },
  {
   "cell_type": "code",
   "execution_count": 10,
   "metadata": {},
   "outputs": [
    {
     "data": {
      "text/plain": [
       "1360"
      ]
     },
     "execution_count": 10,
     "metadata": {},
     "output_type": "execute_result"
    }
   ],
   "source": [
    "len(listdir(\"images/Outex_TC_00014/test\"))"
   ]
  },
  {
   "cell_type": "code",
   "execution_count": 11,
   "metadata": {},
   "outputs": [
    {
     "data": {
      "text/plain": [
       "2720"
      ]
     },
     "execution_count": 11,
     "metadata": {},
     "output_type": "execute_result"
    }
   ],
   "source": [
    "len(listdir(\"images/Outex_TC_00014/train\"))"
   ]
  },
  {
   "cell_type": "code",
   "execution_count": 9,
   "metadata": {},
   "outputs": [
    {
     "name": "stdout",
     "output_type": "stream",
     "text": [
      "Copy Done\n"
     ]
    }
   ],
   "source": [
    "for i in range(len(imagesList)):\n",
    "    if i<68*20*2:\n",
    "        copyfile(\"images/Outex_TC_00014/images_jpg/{filename}\".format(filename = imagesList[i]), \"images/Outex_TC_00014/train/{filename}\".format(filename = imagesList[i]))\n",
    "    else:\n",
    "        copyfile(\"images/Outex_TC_00014/images_jpg/{filename}\".format(filename = imagesList[i]), \"images/Outex_TC_00014/test/{filename}\".format(filename = imagesList[i]))\n",
    "\n",
    "print(\"Copy Done\")"
   ]
  },
  {
   "cell_type": "code",
   "execution_count": 5,
   "metadata": {},
   "outputs": [
    {
     "data": {
      "text/plain": [
       "'images/Outex_TC_00014/images_jpg/train/000000.jpg'"
      ]
     },
     "execution_count": 5,
     "metadata": {},
     "output_type": "execute_result"
    }
   ],
   "source": [
    "#copyfile(\"images/Outex_TC_00014/images_jpg/000000.jpg\", \"images/Outex_TC_00014/images_jpg/train/000000.jpg\")"
   ]
  },
  {
   "cell_type": "code",
   "execution_count": null,
   "metadata": {
    "collapsed": true
   },
   "outputs": [],
   "source": []
  }
 ],
 "metadata": {
  "kernelspec": {
   "display_name": "Python 3",
   "language": "python",
   "name": "python3"
  },
  "language_info": {
   "codemirror_mode": {
    "name": "ipython",
    "version": 3
   },
   "file_extension": ".py",
   "mimetype": "text/x-python",
   "name": "python",
   "nbconvert_exporter": "python",
   "pygments_lexer": "ipython3",
   "version": "3.5.2"
  }
 },
 "nbformat": 4,
 "nbformat_minor": 2
}
