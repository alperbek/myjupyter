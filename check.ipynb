{
 "cells": [
  {
   "cell_type": "code",
   "execution_count": 2,
   "metadata": {
    "collapsed": true
   },
   "outputs": [],
   "source": [
    "import h5py\n",
    "import numpy as np\n",
    "from PIL import Image\n",
    "import os\n",
    "import matplotlib.pyplot as plt"
   ]
  },
  {
   "cell_type": "code",
   "execution_count": 3,
   "metadata": {
    "collapsed": true
   },
   "outputs": [],
   "source": [
    "paviaPCA1 = Image.open('images/pavia_university/PCA/paviaPCA1.png')\n",
    "paviaPCA2 = Image.open('images/pavia_university/PCA/paviaPCA2.png')\n",
    "paviaPCA3 = Image.open('images/pavia_university/PCA/paviaPCA3.png')\n",
    "paviaPCA4 = Image.open('images/pavia_university/PCA/paviaPCA4.png')"
   ]
  },
  {
   "cell_type": "code",
   "execution_count": 29,
   "metadata": {},
   "outputs": [
    {
     "data": {
      "text/plain": [
       "array([[22, 19, 15, ..., 32, 33, 31],\n",
       "       [19, 12,  8, ..., 35, 33, 30],\n",
       "       [17, 10,  5, ..., 38, 36, 34],\n",
       "       ..., \n",
       "       [40, 40, 36, ..., 23, 23, 24],\n",
       "       [36, 43, 42, ..., 26, 26, 24],\n",
       "       [36, 42, 45, ..., 26, 26, 26]], dtype=uint8)"
      ]
     },
     "execution_count": 29,
     "metadata": {},
     "output_type": "execute_result"
    }
   ],
   "source": [
    "npPaviaPCA1 = np.array(paviaPCA1)\n",
    "npPaviaPCA2 = np.array(paviaPCA2)\n",
    "npPaviaPCA3 = np.array(paviaPCA3)\n",
    "npPaviaPCA4 = np.array(paviaPCA4)\n",
    "\n",
    "npPaviaPCA1"
   ]
  },
  {
   "cell_type": "code",
   "execution_count": 26,
   "metadata": {},
   "outputs": [
    {
     "data": {
      "text/plain": [
       "array([[42, 42, 42, 42, 42, 42, 42, 42, 41],\n",
       "       [42, 42, 42, 42, 42, 42, 42, 42, 41],\n",
       "       [42, 42, 42, 42, 42, 42, 42, 42, 41],\n",
       "       [41, 41, 41, 41, 41, 41, 41, 41, 40],\n",
       "       [41, 41, 41, 41, 41, 41, 41, 41, 40],\n",
       "       [40, 40, 40, 40, 40, 40, 40, 40, 39],\n",
       "       [40, 40, 40, 40, 40, 40, 40, 40, 39],\n",
       "       [40, 40, 40, 40, 40, 40, 40, 40, 39],\n",
       "       [39, 40, 40, 41, 41, 40, 40, 39, 39]], dtype=uint8)"
      ]
     },
     "execution_count": 26,
     "metadata": {},
     "output_type": "execute_result"
    }
   ],
   "source": [
    "mean_0 = Image.open('/home/yavuz/caffe/data/paviaUni_PCA_yama_erchan_hoca/mean_0.jpg')\n",
    "npmean_0 = np.array(mean_0)\n",
    "\n",
    "mean_1 = Image.open('/home/yavuz/caffe/data/paviaUni_PCA_yama_erchan_hoca/mean_1.jpg')\n",
    "npmean_1 = np.array(mean_1)\n",
    "\n",
    "mean_2 = Image.open('/home/yavuz/caffe/data/paviaUni_PCA_yama_erchan_hoca/mean_2.jpg')\n",
    "npmean_2 = np.array(mean_2)\n",
    "\n",
    "mean_3 = Image.open('/home/yavuz/caffe/data/paviaUni_PCA_yama_erchan_hoca/mean_3.jpg')\n",
    "npmean_3 = np.array(mean_3)\n",
    "\n",
    "\n",
    "npmean_0"
   ]
  },
  {
   "cell_type": "markdown",
   "metadata": {},
   "source": [
    "<h2>KONTROL 1</h2>"
   ]
  },
  {
   "cell_type": "code",
   "execution_count": 31,
   "metadata": {},
   "outputs": [
    {
     "data": {
      "text/plain": [
       "(610, 340)"
      ]
     },
     "execution_count": 31,
     "metadata": {},
     "output_type": "execute_result"
    }
   ],
   "source": [
    "npPaviaPCA1.shape"
   ]
  },
  {
   "cell_type": "code",
   "execution_count": 48,
   "metadata": {},
   "outputs": [
    {
     "data": {
      "text/plain": [
       "array([[40, 42, 44, 46, 48, 54, 58, 36, 22],\n",
       "       [40, 42, 45, 46, 47, 49, 55, 57, 33],\n",
       "       [43, 45, 49, 49, 48, 49, 51, 59, 43],\n",
       "       [44, 47, 56, 50, 44, 45, 46, 53, 59],\n",
       "       [43, 44, 40, 26, 34, 44, 45, 47, 58],\n",
       "       [43, 42, 36, 32, 40, 44, 46, 48, 54],\n",
       "       [44, 44, 43, 42, 42, 44, 46, 48, 50],\n",
       "       [44, 44, 43, 43, 44, 45, 46, 48, 50],\n",
       "       [45, 45, 44, 43, 44, 46, 46, 47, 48]], dtype=uint8)"
      ]
     },
     "execution_count": 48,
     "metadata": {},
     "output_type": "execute_result"
    }
   ],
   "source": [
    "#Benim Merkezi(9,454) olan yamam\n",
    "i=9\n",
    "j=454\n",
    "my_input_patch = npPaviaPCA1[j-4:j+5, i-4:i+5] #[450:459, 5:14]\n",
    "my_input_patch"
   ]
  },
  {
   "cell_type": "code",
   "execution_count": 49,
   "metadata": {},
   "outputs": [
    {
     "data": {
      "text/plain": [
       "array([[ -2.,   0.,   2.,   4.,   6.,  12.,  16.,  -6., -19.],\n",
       "       [ -2.,   0.,   3.,   4.,   5.,   7.,  13.,  15.,  -8.],\n",
       "       [  1.,   3.,   7.,   7.,   6.,   7.,   9.,  17.,   2.],\n",
       "       [  3.,   6.,  15.,   9.,   3.,   4.,   5.,  12.,  19.],\n",
       "       [  2.,   3.,  -1., -15.,  -7.,   3.,   4.,   6.,  18.],\n",
       "       [  3.,   2.,  -4.,  -8.,   0.,   4.,   6.,   8.,  15.],\n",
       "       [  4.,   4.,   3.,   2.,   2.,   4.,   6.,   8.,  11.],\n",
       "       [  4.,   4.,   3.,   3.,   4.,   5.,   6.,   8.,  11.],\n",
       "       [  6.,   5.,   4.,   2.,   3.,   6.,   6.,   8.,   9.]])"
      ]
     },
     "execution_count": 49,
     "metadata": {},
     "output_type": "execute_result"
    }
   ],
   "source": [
    "my_PCA1_patch = [None] * 1\n",
    "my_PCA1_patch[0] = np.array(my_input_patch).astype(np.float)\n",
    "\n",
    "\n",
    "PCA1_mean = [None] * 1\n",
    "PCA1_mean[0] = np.array(npmean_0).astype(np.float)\n",
    "\n",
    "PCA1_train_patches = [None]  * 1                       \n",
    "PCA1_train_patches[0] = np.subtract(my_PCA1_patch[0], PCA1_mean[0])\n",
    "\n",
    "#benim patch'den Erhan Hoca'nın mean'i çıkartıyorum\n",
    "PCA1_train_patches[0]"
   ]
  },
  {
   "cell_type": "code",
   "execution_count": 42,
   "metadata": {},
   "outputs": [
    {
     "data": {
      "text/plain": [
       "array([[  4.,   3.,   0.,   2.,   9.,  15.,  10.,   0., -18.],\n",
       "       [ -4.,   0.,   1.,   1.,   4.,   9.,  10.,   8., -10.],\n",
       "       [ -3.,   5.,   9.,   5.,   2.,   6.,  13.,  16.,   4.],\n",
       "       [  2.,   9.,  11.,   4.,  -1.,   3.,   9.,  13.,  17.],\n",
       "       [  0.,   2.,  -1.,  -6.,  -6.,  -1.,   3.,   3.,  18.],\n",
       "       [  0.,  -1.,  -4.,  -6.,  -2.,   6.,   7.,   4.,  14.],\n",
       "       [  4.,   4.,   2.,   0.,   3.,  10.,  11.,   8.,  11.],\n",
       "       [  5.,   7.,   6.,   2.,   2.,   5.,   7.,   5.,  11.],\n",
       "       [  6.,   4.,   4.,   3.,   3.,   5.,   6.,   8.,   9.]])"
      ]
     },
     "execution_count": 42,
     "metadata": {},
     "output_type": "execute_result"
    }
   ],
   "source": [
    "#Erhan Hoca'nın Merkezi(9,454) olan yaması\n",
    "i='9'\n",
    "j='454'\n",
    "lbl = '2'\n",
    "filename = \"/home/yavuz/caffe/data/paviaUni_PCA_yama_erchan_hoca/train/patch_{x}_{y}_{label}.h5\".format(x=i,y=j,label=lbl)\n",
    "f = h5py.File(filename, 'r')\n",
    "f['data'][0][0]"
   ]
  },
  {
   "cell_type": "markdown",
   "metadata": {},
   "source": [
    "<b>Kontrol 1'de benim yamam'dan Erhan Hoca'nın mean'i çıktığımda Erhan Hoca'nın çıktısını bulmayı bekliyordum.<br/>Hatalı çıkması benim yamamım yanlış konumda olduğunu gösterebilir ama aşağıdaki yamaya göre konumumda doğru, öleyse fark nereden oluşuyor? </b>"
   ]
  },
  {
   "cell_type": "code",
   "execution_count": 85,
   "metadata": {},
   "outputs": [
    {
     "data": {
      "text/plain": [
       "array([[40, 42, 44, 46, 48, 54, 58, 36, 22],\n",
       "       [40, 42, 45, 46, 47, 49, 55, 57, 33],\n",
       "       [43, 45, 49, 49, 48, 49, 51, 59, 43],\n",
       "       [44, 47, 56, 50, 44, 45, 46, 53, 59],\n",
       "       [43, 44, 40, 26, 34, 44, 45, 47, 58],\n",
       "       [43, 42, 36, 32, 40, 44, 46, 48, 54],\n",
       "       [44, 44, 43, 42, 42, 44, 46, 48, 50],\n",
       "       [44, 44, 43, 43, 44, 45, 46, 48, 50],\n",
       "       [45, 45, 44, 43, 44, 46, 46, 47, 48]], dtype=uint8)"
      ]
     },
     "execution_count": 85,
     "metadata": {},
     "output_type": "execute_result"
    }
   ],
   "source": [
    "#Benim Merkezi(9,454) olan yamam\n",
    "i=9\n",
    "j=454\n",
    "my_input_patch = npPaviaPCA1[j-4:j+5, i-4:i+5] #[450:459, 5:14]\n",
    "my_input_patch"
   ]
  },
  {
   "cell_type": "markdown",
   "metadata": {},
   "source": [
    "<h2>KONTROL 2</h2>"
   ]
  },
  {
   "cell_type": "code",
   "execution_count": 91,
   "metadata": {},
   "outputs": [
    {
     "data": {
      "text/plain": [
       "array([[  0.,   2.,   4.,   6.,   8.,  14.,  18.,  -4., -18.],\n",
       "       [  0.,   2.,   5.,   6.,   7.,   9.,  15.,  17.,  -7.],\n",
       "       [  3.,   5.,   9.,   9.,   8.,   9.,  11.,  19.,   3.],\n",
       "       [  4.,   7.,  16.,  10.,   4.,   5.,   6.,  13.,  19.],\n",
       "       [  3.,   4.,   0., -14.,  -6.,   4.,   5.,   7.,  18.],\n",
       "       [  3.,   2.,  -4.,  -8.,   0.,   4.,   6.,   8.,  14.],\n",
       "       [  4.,   4.,   3.,   2.,   2.,   4.,   6.,   8.,  10.],\n",
       "       [  4.,   4.,   3.,   3.,   4.,   5.,   6.,   8.,  10.],\n",
       "       [  5.,   5.,   4.,   3.,   4.,   6.,   6.,   7.,   8.]])"
      ]
     },
     "execution_count": 91,
     "metadata": {},
     "output_type": "execute_result"
    }
   ],
   "source": [
    "#Benim (9,454) noktasındaki hdf5\n",
    "i='9'\n",
    "j='454'\n",
    "lbl = '2'\n",
    "filename = \"/home/yavuz/caffe/data/paviaUni_PCA_yama/train/train_{x}_{y}_{label}.hdf5\".format(x=i,y=j,label=lbl)\n",
    "f = h5py.File(filename, 'r')\n",
    "my_output_patch = f['data'][0][0]\n",
    "my_output_patch"
   ]
  },
  {
   "cell_type": "code",
   "execution_count": 92,
   "metadata": {},
   "outputs": [
    {
     "data": {
      "text/plain": [
       "199864"
      ]
     },
     "execution_count": 92,
     "metadata": {},
     "output_type": "execute_result"
    }
   ],
   "source": [
    "#pav = paviaPCA1_pad\n",
    "pav = npPaviaPCA1 #paddingsiz\n",
    "\n",
    "r=9\n",
    "c = (pav.shape[0] - (r-1))*(pav.shape[1] - (r-1))\n",
    "PCA1_patches = [None] * c\n",
    "k=0\n",
    "for z in [pav[i:i+r,j:j+r] for i in xrange(pav.shape[0] - r + 1) for j in xrange(pav.shape[1] - r + 1)]:\n",
    "    PCA1_patches[k] = z\n",
    "    #print z\n",
    "    k+=1\n",
    "    \n",
    "len(PCA1_patches)    "
   ]
  },
  {
   "cell_type": "code",
   "execution_count": 93,
   "metadata": {},
   "outputs": [
    {
     "data": {
      "text/plain": [
       "array([[40, 40, 40, 40, 40, 40, 40, 40, 40],\n",
       "       [40, 40, 40, 40, 40, 40, 40, 40, 40],\n",
       "       [40, 40, 40, 40, 40, 40, 40, 40, 40],\n",
       "       [40, 40, 40, 40, 40, 40, 40, 40, 40],\n",
       "       [40, 40, 40, 40, 40, 40, 40, 40, 40],\n",
       "       [40, 40, 40, 40, 40, 40, 40, 40, 40],\n",
       "       [40, 40, 40, 40, 40, 40, 40, 40, 40],\n",
       "       [40, 40, 40, 40, 40, 40, 40, 40, 40],\n",
       "       [40, 40, 40, 40, 40, 40, 40, 40, 40]], dtype=uint8)"
      ]
     },
     "execution_count": 93,
     "metadata": {},
     "output_type": "execute_result"
    }
   ],
   "source": [
    "my_mean_patch_pca1 = np.uint8(np.mean(PCA1_patches,axis=0))\n",
    "my_mean_patch_pca1"
   ]
  },
  {
   "cell_type": "code",
   "execution_count": 94,
   "metadata": {},
   "outputs": [
    {
     "data": {
      "text/plain": [
       "array([[ 40.,  42.,  44.,  46.,  48.,  54.,  58.,  36.,  22.],\n",
       "       [ 40.,  42.,  45.,  46.,  47.,  49.,  55.,  57.,  33.],\n",
       "       [ 43.,  45.,  49.,  49.,  48.,  49.,  51.,  59.,  43.],\n",
       "       [ 44.,  47.,  56.,  50.,  44.,  45.,  46.,  53.,  59.],\n",
       "       [ 43.,  44.,  40.,  26.,  34.,  44.,  45.,  47.,  58.],\n",
       "       [ 43.,  42.,  36.,  32.,  40.,  44.,  46.,  48.,  54.],\n",
       "       [ 44.,  44.,  43.,  42.,  42.,  44.,  46.,  48.,  50.],\n",
       "       [ 44.,  44.,  43.,  43.,  44.,  45.,  46.,  48.,  50.],\n",
       "       [ 45.,  45.,  44.,  43.,  44.,  46.,  46.,  47.,  48.]])"
      ]
     },
     "execution_count": 94,
     "metadata": {},
     "output_type": "execute_result"
    }
   ],
   "source": [
    "my_output_patch + my_mean_patch_pca1"
   ]
  },
  {
   "cell_type": "code",
   "execution_count": 95,
   "metadata": {},
   "outputs": [
    {
     "data": {
      "text/plain": [
       "array([[40, 42, 44, 46, 48, 54, 58, 36, 22],\n",
       "       [40, 42, 45, 46, 47, 49, 55, 57, 33],\n",
       "       [43, 45, 49, 49, 48, 49, 51, 59, 43],\n",
       "       [44, 47, 56, 50, 44, 45, 46, 53, 59],\n",
       "       [43, 44, 40, 26, 34, 44, 45, 47, 58],\n",
       "       [43, 42, 36, 32, 40, 44, 46, 48, 54],\n",
       "       [44, 44, 43, 42, 42, 44, 46, 48, 50],\n",
       "       [44, 44, 43, 43, 44, 45, 46, 48, 50],\n",
       "       [45, 45, 44, 43, 44, 46, 46, 47, 48]], dtype=uint8)"
      ]
     },
     "execution_count": 95,
     "metadata": {},
     "output_type": "execute_result"
    }
   ],
   "source": [
    "my_input_patch"
   ]
  },
  {
   "cell_type": "markdown",
   "metadata": {},
   "source": [
    "<b>Ben kendi ile kendi hdf5 çıktımın doğruluğunu kontrol ettim.<b>"
   ]
  },
  {
   "cell_type": "markdown",
   "metadata": {},
   "source": [
    "<h2>KONTROL 3</h2>"
   ]
  },
  {
   "cell_type": "code",
   "execution_count": 100,
   "metadata": {},
   "outputs": [
    {
     "data": {
      "text/plain": [
       "array([[40, 42, 44, 46, 48, 54, 58, 36, 22],\n",
       "       [40, 42, 45, 46, 47, 49, 55, 57, 33],\n",
       "       [43, 45, 49, 49, 48, 49, 51, 59, 43],\n",
       "       [44, 47, 56, 50, 44, 45, 46, 53, 59],\n",
       "       [43, 44, 40, 26, 34, 44, 45, 47, 58],\n",
       "       [43, 42, 36, 32, 40, 44, 46, 48, 54],\n",
       "       [44, 44, 43, 42, 42, 44, 46, 48, 50],\n",
       "       [44, 44, 43, 43, 44, 45, 46, 48, 50],\n",
       "       [45, 45, 44, 43, 44, 46, 46, 47, 48]], dtype=uint8)"
      ]
     },
     "execution_count": 100,
     "metadata": {},
     "output_type": "execute_result"
    }
   ],
   "source": [
    "my_input_patch"
   ]
  },
  {
   "cell_type": "code",
   "execution_count": 102,
   "metadata": {},
   "outputs": [
    {
     "data": {
      "text/plain": [
       "array([[  4.,   3.,   0.,   2.,   9.,  15.,  10.,   0., -18.],\n",
       "       [ -4.,   0.,   1.,   1.,   4.,   9.,  10.,   8., -10.],\n",
       "       [ -3.,   5.,   9.,   5.,   2.,   6.,  13.,  16.,   4.],\n",
       "       [  2.,   9.,  11.,   4.,  -1.,   3.,   9.,  13.,  17.],\n",
       "       [  0.,   2.,  -1.,  -6.,  -6.,  -1.,   3.,   3.,  18.],\n",
       "       [  0.,  -1.,  -4.,  -6.,  -2.,   6.,   7.,   4.,  14.],\n",
       "       [  4.,   4.,   2.,   0.,   3.,  10.,  11.,   8.,  11.],\n",
       "       [  5.,   7.,   6.,   2.,   2.,   5.,   7.,   5.,  11.],\n",
       "       [  6.,   4.,   4.,   3.,   3.,   5.,   6.,   8.,   9.]])"
      ]
     },
     "execution_count": 102,
     "metadata": {},
     "output_type": "execute_result"
    }
   ],
   "source": [
    "#Erhan Hoca'nın Merkezi(9,454) olan yaması\n",
    "i='9'\n",
    "j='454'\n",
    "lbl = '2'\n",
    "filename = \"/home/yavuz/caffe/data/paviaUni_PCA_yama_erchan_hoca/train/patch_{x}_{y}_{label}.h5\".format(x=i,y=j,label=lbl)\n",
    "f = h5py.File(filename, 'r')\n",
    "PCA1_patch = f['data'][0][0]\n",
    "PCA1_patch"
   ]
  },
  {
   "cell_type": "code",
   "execution_count": 103,
   "metadata": {},
   "outputs": [
    {
     "data": {
      "text/plain": [
       "array([[ 36.,  39.,  44.,  44.,  39.,  39.,  48.,  36.,  40.],\n",
       "       [ 44.,  42.,  44.,  45.,  43.,  40.,  45.,  49.,  43.],\n",
       "       [ 46.,  40.,  40.,  44.,  46.,  43.,  38.,  43.,  39.],\n",
       "       [ 42.,  38.,  45.,  46.,  45.,  42.,  37.,  40.,  42.],\n",
       "       [ 43.,  42.,  41.,  32.,  40.,  45.,  42.,  44.,  40.],\n",
       "       [ 43.,  43.,  40.,  38.,  42.,  38.,  39.,  44.,  40.],\n",
       "       [ 40.,  40.,  41.,  42.,  39.,  34.,  35.,  40.,  39.],\n",
       "       [ 39.,  37.,  37.,  41.,  42.,  40.,  39.,  43.,  39.],\n",
       "       [ 39.,  41.,  40.,  40.,  41.,  41.,  40.,  39.,  39.]])"
      ]
     },
     "execution_count": 103,
     "metadata": {},
     "output_type": "execute_result"
    }
   ],
   "source": [
    "my_PCA1_input_patch = [None] * 1\n",
    "my_PCA1_input_patch[0] = np.array(my_input_patch).astype(np.float)\n",
    "\n",
    "\n",
    "PCA1_output_patch = [None] * 1\n",
    "PCA1_output_patch[0] = np.array(PCA1_patch).astype(np.float)\n",
    "\n",
    "PCA1_mean_patches = [None]  * 1                       \n",
    "PCA1_mean_patches[0] = np.subtract(my_PCA1_input_patch[0], PCA1_output_patch[0])\n",
    "\n",
    "#benim patch'den Erhan Hoca'nın hdf5'i çıkartıyorum. \n",
    "PCA1_mean_patches[0]"
   ]
  },
  {
   "cell_type": "markdown",
   "metadata": {},
   "source": [
    "<b>Benim Merkezi(9,454) olan yamam'dan, Erhan Hoca'nın hdf5'i çıkartıyorum. Erhan Hoca'nın mean'in çıkmasını bekliyorum. Ama aşağıdaki Erhan Hoca'nın mean'den farklı çıkıyor.</b>"
   ]
  },
  {
   "cell_type": "code",
   "execution_count": 104,
   "metadata": {},
   "outputs": [
    {
     "data": {
      "text/plain": [
       "array([[42, 42, 42, 42, 42, 42, 42, 42, 41],\n",
       "       [42, 42, 42, 42, 42, 42, 42, 42, 41],\n",
       "       [42, 42, 42, 42, 42, 42, 42, 42, 41],\n",
       "       [41, 41, 41, 41, 41, 41, 41, 41, 40],\n",
       "       [41, 41, 41, 41, 41, 41, 41, 41, 40],\n",
       "       [40, 40, 40, 40, 40, 40, 40, 40, 39],\n",
       "       [40, 40, 40, 40, 40, 40, 40, 40, 39],\n",
       "       [40, 40, 40, 40, 40, 40, 40, 40, 39],\n",
       "       [39, 40, 40, 41, 41, 40, 40, 39, 39]], dtype=uint8)"
      ]
     },
     "execution_count": 104,
     "metadata": {},
     "output_type": "execute_result"
    }
   ],
   "source": [
    "npmean_0"
   ]
  },
  {
   "cell_type": "code",
   "execution_count": null,
   "metadata": {
    "collapsed": true
   },
   "outputs": [],
   "source": []
  }
 ],
 "metadata": {
  "kernelspec": {
   "display_name": "Python 2",
   "language": "python",
   "name": "python2"
  },
  "language_info": {
   "codemirror_mode": {
    "name": "ipython",
    "version": 2
   },
   "file_extension": ".py",
   "mimetype": "text/x-python",
   "name": "python",
   "nbconvert_exporter": "python",
   "pygments_lexer": "ipython2",
   "version": "2.7.12"
  }
 },
 "nbformat": 4,
 "nbformat_minor": 2
}
