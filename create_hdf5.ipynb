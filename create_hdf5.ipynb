{
 "cells": [
  {
   "cell_type": "code",
   "execution_count": 17,
   "metadata": {
    "collapsed": true
   },
   "outputs": [],
   "source": [
    "import h5py\n",
    "import numpy as np\n",
    "import scipy.io\n",
    "import cv2\n",
    "import os\n",
    "from matplotlib import pyplot as plt"
   ]
  },
  {
   "cell_type": "markdown",
   "metadata": {},
   "source": [
    "<h2>PaviaUni</h2>"
   ]
  },
  {
   "cell_type": "code",
   "execution_count": 2,
   "metadata": {},
   "outputs": [
    {
     "name": "stdout",
     "output_type": "stream",
     "text": [
      "Height:\t\t610 pixels\n",
      "Width:\t\t340 pixels\n",
      "Channels:\t103\n",
      "data-type: uint16 \n"
     ]
    }
   ],
   "source": [
    "paviaU = scipy.io.loadmat('dataset/Pavia_uni/PaviaU.mat')\n",
    "npPaviaU=np.array(paviaU['paviaU'])\n",
    "\n",
    "print (\"Height:\\t\\t%i pixels\\nWidth:\\t\\t%i pixels\\nChannels:\\t%i\" % npPaviaU.shape)\n",
    "print (\"data-type: %s \" % npPaviaU.dtype)"
   ]
  },
  {
   "cell_type": "markdown",
   "metadata": {},
   "source": [
    "<h2>PaviaUni Groundtruth</h2>"
   ]
  },
  {
   "cell_type": "code",
   "execution_count": 3,
   "metadata": {},
   "outputs": [
    {
     "data": {
      "text/plain": [
       "array([[0, 0, 0, ..., 0, 0, 0],\n",
       "       [0, 0, 0, ..., 0, 0, 0],\n",
       "       [0, 0, 0, ..., 0, 0, 0],\n",
       "       ..., \n",
       "       [2, 2, 2, ..., 0, 0, 0],\n",
       "       [2, 2, 2, ..., 0, 0, 0],\n",
       "       [2, 2, 2, ..., 0, 0, 0]], dtype=uint8)"
      ]
     },
     "execution_count": 3,
     "metadata": {},
     "output_type": "execute_result"
    }
   ],
   "source": [
    "paviaU_gt = scipy.io.loadmat('dataset/Pavia_uni/PaviaU_gt.mat')\n",
    "\n",
    "npPaviaU_gt=np.array(paviaU_gt['paviaU_gt'])\n",
    "npPaviaU_gt"
   ]
  },
  {
   "cell_type": "markdown",
   "metadata": {},
   "source": [
    "<b>PaviaUni Groundtruth group by class</b>"
   ]
  },
  {
   "cell_type": "code",
   "execution_count": 4,
   "metadata": {},
   "outputs": [
    {
     "data": {
      "text/plain": [
       "{'0': 164624,\n",
       " '1-Asphalt': 6631,\n",
       " '2-Meadows': 18649,\n",
       " '3-Gravel': 2099,\n",
       " '4-Trees': 3064,\n",
       " '5-Painted_metal_sheets': 1345,\n",
       " '6-Bare_Soil': 5029,\n",
       " '7-Bitumen': 1330,\n",
       " '8-Self-Blocking_Bricks': 3682,\n",
       " '9-Shadows': 947}"
      ]
     },
     "execution_count": 4,
     "metadata": {},
     "output_type": "execute_result"
    }
   ],
   "source": [
    "w_dim = 610\n",
    "h_dim = 340\n",
    "\n",
    "D = { '0': 0, '1-Asphalt': 0, '2-Meadows': 0, '3-Gravel': 0, '4-Trees': 0, '5-Painted_metal_sheets': 0, '6-Bare_Soil': 0, '7-Bitumen': 0, '8-Self-Blocking_Bricks': 0, '9-Shadows': 0 }\n",
    "for i in range(w_dim):\n",
    "    for j in range(h_dim):\n",
    "        if(npPaviaU_gt[i][j] == 0):\n",
    "            D['0']+=1\n",
    "        elif(npPaviaU_gt[i][j] == 1):\n",
    "            D['1-Asphalt']+=1\n",
    "        elif(npPaviaU_gt[i][j] == 2):\n",
    "            D['2-Meadows']+=1\n",
    "        elif(npPaviaU_gt[i][j] == 3):\n",
    "            D['3-Gravel']+=1      \n",
    "        elif(npPaviaU_gt[i][j] == 4):\n",
    "            D['4-Trees']+=1\n",
    "        elif(npPaviaU_gt[i][j] == 5):\n",
    "            D['5-Painted_metal_sheets']+=1\n",
    "            #print(\"5:{x},{y}\".format(x=i,y=j))  \n",
    "        elif(npPaviaU_gt[i][j] == 6):\n",
    "            D['6-Bare_Soil']+=1\n",
    "            #print(\"6:{x},{y}\".format(x=i,y=j))  \n",
    "        elif(npPaviaU_gt[i][j] == 7):\n",
    "            D['7-Bitumen']+=1\n",
    "            #print(\"7:{x},{y}\".format(x=i,y=j))  \n",
    "        elif(npPaviaU_gt[i][j] == 8):\n",
    "            D['8-Self-Blocking_Bricks']+=1\n",
    "            #print(\"8:{x},{y}\".format(x=i,y=j))  \n",
    "        elif(npPaviaU_gt[i][j] == 9):\n",
    "            D['9-Shadows']+=1            \n",
    "            #print(\"9:{x},{y}\".format(x=i,y=j))  \n",
    "            \n",
    "D"
   ]
  },
  {
   "cell_type": "code",
   "execution_count": 53,
   "metadata": {},
   "outputs": [
    {
     "data": {
      "text/plain": [
       "42776"
      ]
     },
     "execution_count": 53,
     "metadata": {},
     "output_type": "execute_result"
    }
   ],
   "source": [
    "6631+18649+2099+3064+1345+5029+1330+3682+947"
   ]
  },
  {
   "cell_type": "markdown",
   "metadata": {},
   "source": [
    "<h2>Create h5</h2>"
   ]
  },
  {
   "cell_type": "code",
   "execution_count": 5,
   "metadata": {
    "collapsed": true
   },
   "outputs": [],
   "source": [
    "def labeled(r,g,b):\n",
    "    label = -1\n",
    "    if(r==192 and g==192 and b==192):\n",
    "        label = 0\n",
    "    elif(r==0 and g==255 and b==0):\n",
    "        label = 1   \n",
    "    elif(r==255 and g==255 and b==0):\n",
    "        label = 2  \n",
    "    elif(r==0 and g==128 and b==0):\n",
    "        label = 3  \n",
    "    elif(r==255 and g==0 and b==255):\n",
    "        label = 4  \n",
    "    elif(r==41 and g==82 and b==165):\n",
    "        label = 5  \n",
    "    elif(r==128 and g==0 and b==128):\n",
    "        label = 6  \n",
    "    elif(r==0 and g==0 and b==255):\n",
    "        label = 7        \n",
    "    elif(r==0 and g==255 and b==255):\n",
    "        label = 8  \n",
    "        \n",
    "    return label        "
   ]
  },
  {
   "cell_type": "markdown",
   "metadata": {},
   "source": [
    "<h3>Create Train HDF5</h3>"
   ]
  },
  {
   "cell_type": "code",
   "execution_count": 100,
   "metadata": {},
   "outputs": [
    {
     "name": "stdout",
     "output_type": "stream",
     "text": [
      "DONE! - 3921\n"
     ]
    }
   ],
   "source": [
    "#TRAIN\n",
    "w_dim = 340\n",
    "h_dim = 610\n",
    "z_dim = 103\n",
    "\n",
    "#Train Image\n",
    "paviaU_trainImage = cv2.imread('images/pavia_university/Train_University.bmp')\n",
    "\n",
    "textfile_train = open(\"/home/yavuz/caffe/data/paviaUni_new/train.txt\", \"w\")\n",
    "\n",
    "ii=0\n",
    "for i in range(h_dim):\n",
    "    for j in range(w_dim):\n",
    "        \n",
    "        r = paviaU_trainImage[i][j][0]\n",
    "        g = paviaU_trainImage[i][j][1]\n",
    "        b = paviaU_trainImage[i][j][2]\n",
    "        if(r!=0 or g!=0 or b!=0):\n",
    "            #print(\"{x},{y}\".format(x=i,y=j))\n",
    "            \n",
    "            lbl = labeled(r,g,b) #npPaviaU_gt[i][j]\n",
    "            \n",
    "            h5_Train = h5py.File(\"/home/yavuz/caffe/data/paviaUni_new/train/train_{x}_{y}_{label}.hdf5\".format(x=i,y=j,label=lbl), 'w')\n",
    "            h5_Train.create_dataset('data', (1, 1, 103), dtype='int64')\n",
    "            h5_Train.create_dataset('label', (1,1), dtype='int8')\n",
    "            \n",
    "            a = np.empty((1,1, 103))\n",
    "            for z in range(z_dim):\n",
    "                a[0][0][z] = npPaviaU[i][j][z]\n",
    "                \n",
    "            h5_Train['data'][0] = a\n",
    "            h5_Train['label'][0] = lbl\n",
    "            \n",
    "            h5_Train.close()\n",
    "            \n",
    "            \n",
    "\n",
    "            textfile_train.write(\"/home/yavuz/caffe/data/paviaUni_new/train/train_{x}_{y}_{label}.hdf5\\n\".format(x=i,y=j,label=lbl))\n",
    "            \n",
    "            ii+=1\n",
    "   \n",
    "            \n",
    "textfile_train.close()          \n",
    "print(\"DONE! - {i}\".format(i=ii))            "
   ]
  },
  {
   "cell_type": "code",
   "execution_count": 105,
   "metadata": {},
   "outputs": [
    {
     "data": {
      "text/plain": [
       "<HDF5 dataset \"data\": shape (1, 1, 103), type \"<i8\">"
      ]
     },
     "execution_count": 105,
     "metadata": {},
     "output_type": "execute_result"
    }
   ],
   "source": [
    "test = h5py.File(\"/home/yavuz/caffe/data/paviaUni_new/train/train_455_10_2.hdf5\",'r')\n",
    "test['data']"
   ]
  },
  {
   "cell_type": "code",
   "execution_count": 106,
   "metadata": {},
   "outputs": [
    {
     "data": {
      "text/plain": [
       "array([[ 767,  854, 1091, 1097, 1122, 1156, 1100, 1071, 1059, 1102, 1062,\n",
       "        1006, 1000, 1005, 1030, 1056, 1096, 1086, 1099, 1134, 1150, 1146,\n",
       "        1155, 1166, 1192, 1243, 1255, 1249, 1274, 1301, 1321, 1328, 1354,\n",
       "        1386, 1387, 1397, 1399, 1399, 1409, 1409, 1424, 1445, 1455, 1455,\n",
       "        1452, 1452, 1442, 1441, 1449, 1459, 1496, 1503, 1471, 1454, 1434,\n",
       "        1431, 1448, 1486, 1495, 1475, 1475, 1476, 1478, 1478, 1462, 1460,\n",
       "        1481, 1497, 1522, 1523, 1507, 1488, 1487, 1483, 1497, 1533, 1552,\n",
       "        1561, 1555, 1562, 1543, 1491, 1436, 1462, 1562, 1584, 1537, 1489,\n",
       "        1481, 1498, 1535, 1545, 1530, 1498, 1478, 1463, 1467, 1495, 1512,\n",
       "        1524, 1496, 1491, 1463]])"
      ]
     },
     "execution_count": 106,
     "metadata": {},
     "output_type": "execute_result"
    }
   ],
   "source": [
    "test['data'][0]"
   ]
  },
  {
   "cell_type": "markdown",
   "metadata": {},
   "source": [
    "<h3>Create Test HDF5</h3>"
   ]
  },
  {
   "cell_type": "code",
   "execution_count": 101,
   "metadata": {},
   "outputs": [
    {
     "name": "stdout",
     "output_type": "stream",
     "text": [
      "DONE! - 42776\n"
     ]
    }
   ],
   "source": [
    "#TEST\n",
    "w_dim = 340\n",
    "h_dim = 610\n",
    "z_dim = 103\n",
    "\n",
    "#TEST Image\n",
    "paviaU_testImage = cv2.imread('images/pavia_university/Test_University.bmp')\n",
    "\n",
    "textfile_test = open(\"/home/yavuz/caffe/data/paviaUni_new/test.txt\", \"w\")\n",
    "\n",
    "ii=0\n",
    "for i in range(h_dim):\n",
    "    for j in range(w_dim):\n",
    "        \n",
    "        r = paviaU_testImage[i][j][0]\n",
    "        g = paviaU_testImage[i][j][1]\n",
    "        b = paviaU_testImage[i][j][2]\n",
    "        if(r!=0 or g!=0 or b!=0):\n",
    "            #print(\"{x},{y}\".format(x=i,y=j))\n",
    "            \n",
    "            lbl = labeled(r,g,b)\n",
    "            \n",
    "            h5_Train = h5py.File(\"/home/yavuz/caffe/data/paviaUni_new/test/test_{x}_{y}_{label}.hdf5\".format(x=i,y=j,label=lbl), 'w')\n",
    "            h5_Train.create_dataset('data', (1, 1, 103), dtype='int64')\n",
    "            h5_Train.create_dataset('label', (1,1), dtype='int8')\n",
    "            \n",
    "            a = np.empty((1,1, 103))\n",
    "            for z in range(z_dim):\n",
    "                a[0][0][z] = npPaviaU[i][j][z]\n",
    "                \n",
    "            h5_Train['data'][0] = a\n",
    "            h5_Train['label'][0] = lbl\n",
    "            \n",
    "            h5_Train.close()\n",
    "            \n",
    "            \n",
    "\n",
    "            textfile_test.write(\"/home/yavuz/caffe/data/paviaUni_new/test/test_{x}_{y}_{label}.hdf5\\n\".format(x=i,y=j,label=lbl))\n",
    "            \n",
    "            ii+=1\n",
    "   \n",
    "            \n",
    "textfile_test.close()          \n",
    "print(\"DONE! - {i}\".format(i=ii))     "
   ]
  },
  {
   "cell_type": "code",
   "execution_count": null,
   "metadata": {
    "collapsed": true
   },
   "outputs": [],
   "source": []
  }
 ],
 "metadata": {
  "kernelspec": {
   "display_name": "Python 3",
   "language": "python",
   "name": "python3"
  },
  "language_info": {
   "codemirror_mode": {
    "name": "ipython",
    "version": 3
   },
   "file_extension": ".py",
   "mimetype": "text/x-python",
   "name": "python",
   "nbconvert_exporter": "python",
   "pygments_lexer": "ipython3",
   "version": "3.5.2"
  }
 },
 "nbformat": 4,
 "nbformat_minor": 2
}
