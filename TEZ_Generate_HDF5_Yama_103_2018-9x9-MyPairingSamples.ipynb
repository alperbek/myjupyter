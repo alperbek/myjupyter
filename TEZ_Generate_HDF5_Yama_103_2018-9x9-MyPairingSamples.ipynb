{
 "cells": [
  {
   "cell_type": "code",
   "execution_count": 1,
   "metadata": {
    "collapsed": true
   },
   "outputs": [],
   "source": [
    "import numpy as np\n",
    "import matplotlib.pyplot as plt\n",
    "from random import randint\n",
    "import h5py\n",
    "import os\n",
    "%matplotlib inline"
   ]
  },
  {
   "cell_type": "code",
   "execution_count": 2,
   "metadata": {},
   "outputs": [
    {
     "data": {
      "text/plain": [
       "(3921, 103, 9, 9)"
      ]
     },
     "execution_count": 2,
     "metadata": {},
     "output_type": "execute_result"
    }
   ],
   "source": [
    "only_trainImage_patches = np.load('files/3921_103_9_9_npPaviaU_only_trainImage_patches_not_mean.npy')\n",
    "only_trainImage_patches.shape"
   ]
  },
  {
   "cell_type": "code",
   "execution_count": 3,
   "metadata": {},
   "outputs": [
    {
     "data": {
      "text/plain": [
       "4"
      ]
     },
     "execution_count": 3,
     "metadata": {},
     "output_type": "execute_result"
    }
   ],
   "source": [
    "train_labels = np.load('files/3921_103_9_9_npPaviaU_only_trainImage_labels.npy')\n",
    "train_labels[500]"
   ]
  },
  {
   "cell_type": "code",
   "execution_count": 4,
   "metadata": {},
   "outputs": [
    {
     "data": {
      "text/plain": [
       "(1, 103, 9, 9)"
      ]
     },
     "execution_count": 4,
     "metadata": {},
     "output_type": "execute_result"
    }
   ],
   "source": [
    "reshape_mean_patch = np.load('files/9_9_103_general_reshape_mean_patch.npy')\n",
    "reshape_mean_patch.shape"
   ]
  },
  {
   "cell_type": "code",
   "execution_count": 5,
   "metadata": {
    "collapsed": true
   },
   "outputs": [],
   "source": [
    "def shuffle(orj_set, sampleCount, index):\n",
    "    Y = np.zeros((sampleCount, orj_set.shape[1], orj_set.shape[2], orj_set.shape[3]), dtype=np.float) \n",
    "    for i in range(sampleCount):\n",
    "        while True:\n",
    "            r = randint(0, orj_set.shape[0]-1)\n",
    "            #print(r)\n",
    "            if r!=index:\n",
    "                break \n",
    "\n",
    "        #\n",
    "        Y[i] = orj_set[r,:,:,:]\n",
    "        \n",
    "    return Y   "
   ]
  },
  {
   "cell_type": "code",
   "execution_count": 6,
   "metadata": {
    "collapsed": true
   },
   "outputs": [],
   "source": [
    "def mean(A,B):\n",
    "    count = 2\n",
    "    patches_array = [None] * count\n",
    "    \n",
    "    patches_array[0] = A\n",
    "    patches_array[1] = B\n",
    "    \n",
    "    mean_patch = np.uint16(np.mean(patches_array,axis=0))\n",
    "\n",
    "    return mean_patch"
   ]
  },
  {
   "cell_type": "code",
   "execution_count": 7,
   "metadata": {
    "scrolled": true
   },
   "outputs": [
    {
     "name": "stdout",
     "output_type": "stream",
     "text": [
      "('count', 0)\n",
      "('count', 1)\n",
      "('count', 2)\n",
      "('count', 3)\n",
      "('count', 4)\n",
      "('count', 5)\n",
      "('count', 6)\n",
      "('count', 7)\n",
      "('count', 8)\n",
      "('count', 9)\n",
      "('count', 10)\n",
      "('count', 11)\n",
      "('count', 12)\n",
      "('count', 13)\n",
      "('count', 14)\n",
      "('count', 15)\n",
      "('count', 16)\n",
      "('count', 17)\n",
      "('count', 18)\n",
      "('count', 19)\n",
      "('count', 20)\n",
      "('count', 21)\n",
      "('count', 22)\n",
      "('count', 23)\n",
      "('count', 24)\n",
      "('count', 25)\n",
      "('count', 26)\n",
      "('count', 27)\n",
      "('count', 28)\n",
      "('count', 29)\n",
      "('count', 30)\n",
      "('count', 31)\n",
      "('count', 32)\n",
      "('count', 33)\n",
      "('count', 34)\n",
      "('count', 35)\n"
     ]
    },
    {
     "ename": "KeyboardInterrupt",
     "evalue": "",
     "output_type": "error",
     "traceback": [
      "\u001b[0;31m---------------------------------------------------------------------------\u001b[0m",
      "\u001b[0;31mKeyboardInterrupt\u001b[0m                         Traceback (most recent call last)",
      "\u001b[0;32m<ipython-input-7-4743f2cf91bc>\u001b[0m in \u001b[0;36m<module>\u001b[0;34m()\u001b[0m\n\u001b[1;32m     32\u001b[0m         \u001b[0mhdf5_vec\u001b[0m \u001b[0;34m=\u001b[0m \u001b[0mhdf5_vec\u001b[0m\u001b[0;34m.\u001b[0m\u001b[0mastype\u001b[0m\u001b[0;34m(\u001b[0m\u001b[0mnp\u001b[0m\u001b[0;34m.\u001b[0m\u001b[0mint32\u001b[0m\u001b[0;34m)\u001b[0m\u001b[0;34m\u001b[0m\u001b[0m\n\u001b[1;32m     33\u001b[0m \u001b[0;34m\u001b[0m\u001b[0m\n\u001b[0;32m---> 34\u001b[0;31m         \u001b[0mh5_Train\u001b[0m\u001b[0;34m[\u001b[0m\u001b[0;34m'data_9x9x103'\u001b[0m\u001b[0;34m]\u001b[0m\u001b[0;34m[\u001b[0m\u001b[0;36m0\u001b[0m\u001b[0;34m]\u001b[0m \u001b[0;34m=\u001b[0m \u001b[0mhdf5_vec\u001b[0m \u001b[0;31m#new_mean_sample\u001b[0m\u001b[0;34m\u001b[0m\u001b[0m\n\u001b[0m\u001b[1;32m     35\u001b[0m         \u001b[0;31m#yukarda seçilen eğitim örneğinin etiketini atıyorum\u001b[0m\u001b[0;34m\u001b[0m\u001b[0;34m\u001b[0m\u001b[0m\n\u001b[1;32m     36\u001b[0m         \u001b[0mh5_Train\u001b[0m\u001b[0;34m[\u001b[0m\u001b[0;34m'label_9x9x103'\u001b[0m\u001b[0;34m]\u001b[0m\u001b[0;34m[\u001b[0m\u001b[0;36m0\u001b[0m\u001b[0;34m]\u001b[0m \u001b[0;34m=\u001b[0m \u001b[0mlbl\u001b[0m\u001b[0;34m\u001b[0m\u001b[0m\n",
      "\u001b[0;32mh5py/_objects.pyx\u001b[0m in \u001b[0;36mh5py._objects.with_phil.wrapper (/tmp/pip-nCYoKW-build/h5py/_objects.c:2840)\u001b[0;34m()\u001b[0m\n",
      "\u001b[0;32mh5py/_objects.pyx\u001b[0m in \u001b[0;36mh5py._objects.with_phil.wrapper (/tmp/pip-nCYoKW-build/h5py/_objects.c:2798)\u001b[0;34m()\u001b[0m\n",
      "\u001b[0;32m/home/yavuz/.local/lib/python2.7/site-packages/h5py/_hl/dataset.pyc\u001b[0m in \u001b[0;36m__setitem__\u001b[0;34m(self, args, val)\u001b[0m\n\u001b[1;32m    522\u001b[0m         \u001b[0;31m# Generally we try to avoid converting the arrays on the Python\u001b[0m\u001b[0;34m\u001b[0m\u001b[0;34m\u001b[0m\u001b[0m\n\u001b[1;32m    523\u001b[0m         \u001b[0;31m# side.  However, for compound literals this is unavoidable.\u001b[0m\u001b[0;34m\u001b[0m\u001b[0;34m\u001b[0m\u001b[0m\n\u001b[0;32m--> 524\u001b[0;31m         \u001b[0mvlen\u001b[0m \u001b[0;34m=\u001b[0m \u001b[0mh5t\u001b[0m\u001b[0;34m.\u001b[0m\u001b[0mcheck_dtype\u001b[0m\u001b[0;34m(\u001b[0m\u001b[0mvlen\u001b[0m\u001b[0;34m=\u001b[0m\u001b[0mself\u001b[0m\u001b[0;34m.\u001b[0m\u001b[0mdtype\u001b[0m\u001b[0;34m)\u001b[0m\u001b[0;34m\u001b[0m\u001b[0m\n\u001b[0m\u001b[1;32m    525\u001b[0m         \u001b[0;32mif\u001b[0m \u001b[0mvlen\u001b[0m \u001b[0;32mis\u001b[0m \u001b[0;32mnot\u001b[0m \u001b[0mNone\u001b[0m \u001b[0;32mand\u001b[0m \u001b[0mvlen\u001b[0m \u001b[0;32mnot\u001b[0m \u001b[0;32min\u001b[0m \u001b[0;34m(\u001b[0m\u001b[0mbytes\u001b[0m\u001b[0;34m,\u001b[0m \u001b[0msix\u001b[0m\u001b[0;34m.\u001b[0m\u001b[0mtext_type\u001b[0m\u001b[0;34m)\u001b[0m\u001b[0;34m:\u001b[0m\u001b[0;34m\u001b[0m\u001b[0m\n\u001b[1;32m    526\u001b[0m             \u001b[0;32mtry\u001b[0m\u001b[0;34m:\u001b[0m\u001b[0;34m\u001b[0m\u001b[0m\n",
      "\u001b[0;31mKeyboardInterrupt\u001b[0m: "
     ]
    }
   ],
   "source": [
    "NewSampleCount = only_trainImage_patches.shape[0] * 100\n",
    "\n",
    "textfile_train = open(\"/home/yavuz/caffe/data/paviaUni_yama_9x9_mypairing/train.txt\", \"w\")\n",
    "\n",
    "samples = 1\n",
    "channels = 103\n",
    "height = 9\n",
    "width = 9\n",
    "\n",
    "count = 0\n",
    "#3921 9x9x103 lük tensör dönüyor\n",
    "for i in xrange(only_trainImage_patches.shape[0]):\n",
    "    #sırasıyla örneği seçiyorum\n",
    "    A = only_trainImage_patches[i]\n",
    "    lbl = train_labels[i]\n",
    "    \n",
    "    #seçilen örnek hariç diğerlerinden rastgele 99 adet örnek seçiyorum\n",
    "    rnd_traning_sample = shuffle(only_trainImage_patches, 99, i)\n",
    "    \n",
    "    \n",
    "    #rastgele seçilen 99 örneği dönüyorum\n",
    "    for j in xrange(rnd_traning_sample.shape[0]):\n",
    "        #rastgele seçilen örnek ile yukarda seçilen eğitim örneği ile ortalamasını alıyorum.\n",
    "        new_mean_sample = mean(rnd_traning_sample[j], A)\n",
    "        \n",
    "        \n",
    "        h5_Train = h5py.File(\"/home/yavuz/caffe/data/paviaUni_yama_9x9_mypairing/train/train_{x}_{j}_{label}_mean.hdf5\".format(x=i, j=j, label=lbl), 'w')\n",
    "        h5_Train.create_dataset('data_9x9x103', (samples, channels, height, width), dtype=np.float)\n",
    "        h5_Train.create_dataset('label_9x9x103', (1,1),  dtype=np.float)\n",
    "        \n",
    "        #yeni üretilen görüntü ile ortalama görüntüyü çıkartıyorum\n",
    "        hdf5_vec = np.subtract(new_mean_sample, reshape_mean_patch[0])\n",
    "        hdf5_vec = hdf5_vec.astype(np.int32)\n",
    "        \n",
    "        h5_Train['data_9x9x103'][0] = hdf5_vec #new_mean_sample\n",
    "        #yukarda seçilen eğitim örneğinin etiketini atıyorum\n",
    "        h5_Train['label_9x9x103'][0] = lbl \n",
    "        \n",
    "        \n",
    "        h5_Train.close()\n",
    "            \n",
    "        textfile_train.write(\"/home/yavuz/caffe/data/paviaUni_yama_9x9_mypairing/train/train_{x}_{j}_{label}_mean.hdf5\\n\".format(x=i, j=j, label=lbl))\n",
    "            \n",
    "         \n",
    "    #yukarda seçilen eğitim örneğinin kendisi     \n",
    "    h5_Train = h5py.File(\"/home/yavuz/caffe/data/paviaUni_yama_9x9_mypairing/train/train_{x}_{label}.hdf5\".format(x=i,label=lbl), 'w')\n",
    "    h5_Train.create_dataset('data_9x9x103', (samples, channels, height, width), dtype=np.float)\n",
    "    h5_Train.create_dataset('label_9x9x103', (1,1),  dtype=np.float)\n",
    "    \n",
    "    #yukarda seçilen eğitim örneğinin kendisi ile ortalama görüntüyü çıkartıyorum\n",
    "    hdf5_vec = np.subtract(A, reshape_mean_patch[0])\n",
    "    hdf5_vec = hdf5_vec.astype(np.int32)\n",
    "    \n",
    "    h5_Train['data_9x9x103'][0] = hdf5_vec #A\n",
    "    h5_Train['label_9x9x103'][0] = lbl\n",
    "            \n",
    "    h5_Train.close()\n",
    "            \n",
    "    textfile_train.write(\"/home/yavuz/caffe/data/paviaUni_yama_9x9_mypairing/train/train_{x}_{label}.hdf5\\n\".format(x=i,label=lbl))\n",
    "    \n",
    "    print(\"count\",count)\n",
    "    count+=1   \n",
    "\n",
    "print(\"DONE! - {i}\".format(i=count))"
   ]
  },
  {
   "cell_type": "code",
   "execution_count": null,
   "metadata": {
    "collapsed": true
   },
   "outputs": [],
   "source": []
  }
 ],
 "metadata": {
  "kernelspec": {
   "display_name": "Python 2",
   "language": "python",
   "name": "python2"
  },
  "language_info": {
   "codemirror_mode": {
    "name": "ipython",
    "version": 2
   },
   "file_extension": ".py",
   "mimetype": "text/x-python",
   "name": "python",
   "nbconvert_exporter": "python",
   "pygments_lexer": "ipython2",
   "version": "2.7.12"
  }
 },
 "nbformat": 4,
 "nbformat_minor": 2
}
