{
 "cells": [
  {
   "cell_type": "code",
   "execution_count": 1,
   "metadata": {
    "collapsed": true
   },
   "outputs": [],
   "source": [
    "%matplotlib notebook\n",
    "from skimage import data, io\n",
    "import numpy as np\n",
    "import scipy.io\n",
    "from matplotlib import pyplot as plt"
   ]
  },
  {
   "cell_type": "markdown",
   "metadata": {},
   "source": [
    "Indian_pines.mat"
   ]
  },
  {
   "cell_type": "code",
   "execution_count": 3,
   "metadata": {},
   "outputs": [
    {
     "name": "stdout",
     "output_type": "stream",
     "text": [
      "Height:\t\t145 pixels\n",
      "Width:\t\t145 pixels\n",
      "Channels:\t220\n",
      "data-type: uint16 \n"
     ]
    }
   ],
   "source": [
    "Indian_pines = scipy.io.loadmat('dataset/Indian_pines/Indian_pines.mat')\n",
    "npIndian_pines=np.array(Indian_pines['indian_pines'])\n",
    "\n",
    "print (\"Height:\\t\\t%i pixels\\nWidth:\\t\\t%i pixels\\nChannels:\\t%i\" % npIndian_pines.shape)\n",
    "print (\"data-type: %s \" % npIndian_pines.dtype)"
   ]
  },
  {
   "cell_type": "markdown",
   "metadata": {},
   "source": [
    "Indian_pines_corrected.mat"
   ]
  },
  {
   "cell_type": "code",
   "execution_count": 4,
   "metadata": {},
   "outputs": [
    {
     "name": "stdout",
     "output_type": "stream",
     "text": [
      "Height:\t\t145 pixels\n",
      "Width:\t\t145 pixels\n",
      "Channels:\t200\n",
      "data-type: uint16 \n"
     ]
    }
   ],
   "source": [
    "Indian_pines_corrected = scipy.io.loadmat('dataset/Indian_pines/Indian_pines_corrected.mat')\n",
    "npIndian_pines_corrected=np.array(Indian_pines_corrected['indian_pines_corrected'])\n",
    "\n",
    "print (\"Height:\\t\\t%i pixels\\nWidth:\\t\\t%i pixels\\nChannels:\\t%i\" % npIndian_pines_corrected.shape)\n",
    "print (\"data-type: %s \" % npIndian_pines_corrected.dtype)"
   ]
  },
  {
   "cell_type": "markdown",
   "metadata": {},
   "source": [
    "Indian_pines_gt.mat"
   ]
  },
  {
   "cell_type": "code",
   "execution_count": 19,
   "metadata": {},
   "outputs": [
    {
     "data": {
      "text/plain": [
       "(145, 145)"
      ]
     },
     "execution_count": 19,
     "metadata": {},
     "output_type": "execute_result"
    }
   ],
   "source": [
    "Indian_pines_gt = scipy.io.loadmat('dataset/Indian_pines/Indian_pines_gt.mat')\n",
    "\n",
    "npIndian_pines_gt=np.array(Indian_pines_gt['indian_pines_gt'])\n",
    "\n",
    "npIndian_pines_gt.shape"
   ]
  },
  {
   "cell_type": "code",
   "execution_count": 20,
   "metadata": {},
   "outputs": [
    {
     "data": {
      "text/plain": [
       "array([[3, 3, 3, ..., 0, 0, 0],\n",
       "       [3, 3, 3, ..., 0, 0, 0],\n",
       "       [3, 3, 3, ..., 0, 0, 0],\n",
       "       ..., \n",
       "       [0, 0, 0, ..., 0, 0, 0],\n",
       "       [0, 0, 0, ..., 0, 0, 0],\n",
       "       [0, 0, 0, ..., 0, 0, 0]], dtype=uint8)"
      ]
     },
     "execution_count": 20,
     "metadata": {},
     "output_type": "execute_result"
    }
   ],
   "source": [
    "npIndian_pines_gt"
   ]
  },
  {
   "cell_type": "code",
   "execution_count": 21,
   "metadata": {},
   "outputs": [
    {
     "data": {
      "text/plain": [
       "3"
      ]
     },
     "execution_count": 21,
     "metadata": {},
     "output_type": "execute_result"
    }
   ],
   "source": [
    "npIndian_pines_gt[0,0]"
   ]
  },
  {
   "cell_type": "code",
   "execution_count": null,
   "metadata": {
    "collapsed": true
   },
   "outputs": [],
   "source": []
  }
 ],
 "metadata": {
  "kernelspec": {
   "display_name": "Python 3",
   "language": "python",
   "name": "python3"
  },
  "language_info": {
   "codemirror_mode": {
    "name": "ipython",
    "version": 3
   },
   "file_extension": ".py",
   "mimetype": "text/x-python",
   "name": "python",
   "nbconvert_exporter": "python",
   "pygments_lexer": "ipython3",
   "version": "3.5.2"
  }
 },
 "nbformat": 4,
 "nbformat_minor": 2
}
